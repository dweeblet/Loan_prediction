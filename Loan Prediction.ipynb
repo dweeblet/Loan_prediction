{
 "cells": [
  {
   "cell_type": "code",
   "execution_count": 1,
   "metadata": {},
   "outputs": [],
   "source": [
    "import pandas as pd \n",
    "import numpy as np                     # For mathematical calculations \n",
    "import seaborn as sns                  # For data visualization \n",
    "import matplotlib.pyplot as plt        # For plotting graphs \n",
    "%matplotlib inline \n",
    "import warnings                        # To ignore any warnings warnings.filterwarnings(\"ignore\")"
   ]
  },
  {
   "cell_type": "code",
   "execution_count": 2,
   "metadata": {},
   "outputs": [],
   "source": [
    "train = pd.read_csv(r\"C:\\Users\\thobekab\\Documents\\Analytics\\Learning\\Loan_Prediction\\train_u6lujuX_CVtuZ9i.csv\")"
   ]
  },
  {
   "cell_type": "code",
   "execution_count": 3,
   "metadata": {},
   "outputs": [
    {
     "name": "stdout",
     "output_type": "stream",
     "text": [
      "      Loan_ID  Gender Married Dependents     Education Self_Employed  \\\n",
      "0    LP001002    Male      No          0      Graduate            No   \n",
      "1    LP001003    Male     Yes          1      Graduate            No   \n",
      "2    LP001005    Male     Yes          0      Graduate           Yes   \n",
      "3    LP001006    Male     Yes          0  Not Graduate            No   \n",
      "4    LP001008    Male      No          0      Graduate            No   \n",
      "5    LP001011    Male     Yes          2      Graduate           Yes   \n",
      "6    LP001013    Male     Yes          0  Not Graduate            No   \n",
      "7    LP001014    Male     Yes         3+      Graduate            No   \n",
      "8    LP001018    Male     Yes          2      Graduate            No   \n",
      "9    LP001020    Male     Yes          1      Graduate            No   \n",
      "10   LP001024    Male     Yes          2      Graduate            No   \n",
      "11   LP001027    Male     Yes          2      Graduate           NaN   \n",
      "12   LP001028    Male     Yes          2      Graduate            No   \n",
      "13   LP001029    Male      No          0      Graduate            No   \n",
      "14   LP001030    Male     Yes          2      Graduate            No   \n",
      "15   LP001032    Male      No          0      Graduate            No   \n",
      "16   LP001034    Male      No          1  Not Graduate            No   \n",
      "17   LP001036  Female      No          0      Graduate            No   \n",
      "18   LP001038    Male     Yes          0  Not Graduate            No   \n",
      "19   LP001041    Male     Yes          0      Graduate           NaN   \n",
      "20   LP001043    Male     Yes          0  Not Graduate            No   \n",
      "21   LP001046    Male     Yes          1      Graduate            No   \n",
      "22   LP001047    Male     Yes          0  Not Graduate            No   \n",
      "23   LP001050     NaN     Yes          2  Not Graduate            No   \n",
      "24   LP001052    Male     Yes          1      Graduate           NaN   \n",
      "25   LP001066    Male     Yes          0      Graduate           Yes   \n",
      "26   LP001068    Male     Yes          0      Graduate            No   \n",
      "27   LP001073    Male     Yes          2  Not Graduate            No   \n",
      "28   LP001086    Male      No          0  Not Graduate            No   \n",
      "29   LP001087  Female      No          2      Graduate           NaN   \n",
      "..        ...     ...     ...        ...           ...           ...   \n",
      "584  LP002911    Male     Yes          1      Graduate            No   \n",
      "585  LP002912    Male     Yes          1      Graduate            No   \n",
      "586  LP002916    Male     Yes          0      Graduate            No   \n",
      "587  LP002917  Female      No          0  Not Graduate            No   \n",
      "588  LP002925     NaN      No          0      Graduate            No   \n",
      "589  LP002926    Male     Yes          2      Graduate           Yes   \n",
      "590  LP002928    Male     Yes          0      Graduate            No   \n",
      "591  LP002931    Male     Yes          2      Graduate           Yes   \n",
      "592  LP002933     NaN      No         3+      Graduate           Yes   \n",
      "593  LP002936    Male     Yes          0      Graduate            No   \n",
      "594  LP002938    Male     Yes          0      Graduate           Yes   \n",
      "595  LP002940    Male      No          0  Not Graduate            No   \n",
      "596  LP002941    Male     Yes          2  Not Graduate           Yes   \n",
      "597  LP002943    Male      No        NaN      Graduate            No   \n",
      "598  LP002945    Male     Yes          0      Graduate           Yes   \n",
      "599  LP002948    Male     Yes          2      Graduate            No   \n",
      "600  LP002949  Female      No         3+      Graduate           NaN   \n",
      "601  LP002950    Male     Yes          0  Not Graduate           NaN   \n",
      "602  LP002953    Male     Yes         3+      Graduate            No   \n",
      "603  LP002958    Male      No          0      Graduate            No   \n",
      "604  LP002959  Female     Yes          1      Graduate            No   \n",
      "605  LP002960    Male     Yes          0  Not Graduate            No   \n",
      "606  LP002961    Male     Yes          1      Graduate            No   \n",
      "607  LP002964    Male     Yes          2  Not Graduate            No   \n",
      "608  LP002974    Male     Yes          0      Graduate            No   \n",
      "609  LP002978  Female      No          0      Graduate            No   \n",
      "610  LP002979    Male     Yes         3+      Graduate            No   \n",
      "611  LP002983    Male     Yes          1      Graduate            No   \n",
      "612  LP002984    Male     Yes          2      Graduate            No   \n",
      "613  LP002990  Female      No          0      Graduate           Yes   \n",
      "\n",
      "     ApplicantIncome  CoapplicantIncome  LoanAmount  Loan_Amount_Term  \\\n",
      "0               5849                0.0         NaN             360.0   \n",
      "1               4583             1508.0       128.0             360.0   \n",
      "2               3000                0.0        66.0             360.0   \n",
      "3               2583             2358.0       120.0             360.0   \n",
      "4               6000                0.0       141.0             360.0   \n",
      "5               5417             4196.0       267.0             360.0   \n",
      "6               2333             1516.0        95.0             360.0   \n",
      "7               3036             2504.0       158.0             360.0   \n",
      "8               4006             1526.0       168.0             360.0   \n",
      "9              12841            10968.0       349.0             360.0   \n",
      "10              3200              700.0        70.0             360.0   \n",
      "11              2500             1840.0       109.0             360.0   \n",
      "12              3073             8106.0       200.0             360.0   \n",
      "13              1853             2840.0       114.0             360.0   \n",
      "14              1299             1086.0        17.0             120.0   \n",
      "15              4950                0.0       125.0             360.0   \n",
      "16              3596                0.0       100.0             240.0   \n",
      "17              3510                0.0        76.0             360.0   \n",
      "18              4887                0.0       133.0             360.0   \n",
      "19              2600             3500.0       115.0               NaN   \n",
      "20              7660                0.0       104.0             360.0   \n",
      "21              5955             5625.0       315.0             360.0   \n",
      "22              2600             1911.0       116.0             360.0   \n",
      "23              3365             1917.0       112.0             360.0   \n",
      "24              3717             2925.0       151.0             360.0   \n",
      "25              9560                0.0       191.0             360.0   \n",
      "26              2799             2253.0       122.0             360.0   \n",
      "27              4226             1040.0       110.0             360.0   \n",
      "28              1442                0.0        35.0             360.0   \n",
      "29              3750             2083.0       120.0             360.0   \n",
      "..               ...                ...         ...               ...   \n",
      "584             2787             1917.0       146.0             360.0   \n",
      "585             4283             3000.0       172.0              84.0   \n",
      "586             2297             1522.0       104.0             360.0   \n",
      "587             2165                0.0        70.0             360.0   \n",
      "588             4750                0.0        94.0             360.0   \n",
      "589             2726                0.0       106.0             360.0   \n",
      "590             3000             3416.0        56.0             180.0   \n",
      "591             6000                0.0       205.0             240.0   \n",
      "592             9357                0.0       292.0             360.0   \n",
      "593             3859             3300.0       142.0             180.0   \n",
      "594            16120                0.0       260.0             360.0   \n",
      "595             3833                0.0       110.0             360.0   \n",
      "596             6383             1000.0       187.0             360.0   \n",
      "597             2987                0.0        88.0             360.0   \n",
      "598             9963                0.0       180.0             360.0   \n",
      "599             5780                0.0       192.0             360.0   \n",
      "600              416            41667.0       350.0             180.0   \n",
      "601             2894             2792.0       155.0             360.0   \n",
      "602             5703                0.0       128.0             360.0   \n",
      "603             3676             4301.0       172.0             360.0   \n",
      "604            12000                0.0       496.0             360.0   \n",
      "605             2400             3800.0         NaN             180.0   \n",
      "606             3400             2500.0       173.0             360.0   \n",
      "607             3987             1411.0       157.0             360.0   \n",
      "608             3232             1950.0       108.0             360.0   \n",
      "609             2900                0.0        71.0             360.0   \n",
      "610             4106                0.0        40.0             180.0   \n",
      "611             8072              240.0       253.0             360.0   \n",
      "612             7583                0.0       187.0             360.0   \n",
      "613             4583                0.0       133.0             360.0   \n",
      "\n",
      "     Credit_History Property_Area Loan_Status  \n",
      "0               1.0         Urban           Y  \n",
      "1               1.0         Rural           N  \n",
      "2               1.0         Urban           Y  \n",
      "3               1.0         Urban           Y  \n",
      "4               1.0         Urban           Y  \n",
      "5               1.0         Urban           Y  \n",
      "6               1.0         Urban           Y  \n",
      "7               0.0     Semiurban           N  \n",
      "8               1.0         Urban           Y  \n",
      "9               1.0     Semiurban           N  \n",
      "10              1.0         Urban           Y  \n",
      "11              1.0         Urban           Y  \n",
      "12              1.0         Urban           Y  \n",
      "13              1.0         Rural           N  \n",
      "14              1.0         Urban           Y  \n",
      "15              1.0         Urban           Y  \n",
      "16              NaN         Urban           Y  \n",
      "17              0.0         Urban           N  \n",
      "18              1.0         Rural           N  \n",
      "19              1.0         Urban           Y  \n",
      "20              0.0         Urban           N  \n",
      "21              1.0         Urban           Y  \n",
      "22              0.0     Semiurban           N  \n",
      "23              0.0         Rural           N  \n",
      "24              NaN     Semiurban           N  \n",
      "25              1.0     Semiurban           Y  \n",
      "26              1.0     Semiurban           Y  \n",
      "27              1.0         Urban           Y  \n",
      "28              1.0         Urban           N  \n",
      "29              1.0     Semiurban           Y  \n",
      "..              ...           ...         ...  \n",
      "584             0.0         Rural           N  \n",
      "585             1.0         Rural           N  \n",
      "586             1.0         Urban           Y  \n",
      "587             1.0     Semiurban           Y  \n",
      "588             1.0     Semiurban           Y  \n",
      "589             0.0     Semiurban           N  \n",
      "590             1.0     Semiurban           Y  \n",
      "591             1.0     Semiurban           N  \n",
      "592             1.0     Semiurban           Y  \n",
      "593             1.0         Rural           Y  \n",
      "594             1.0         Urban           Y  \n",
      "595             1.0         Rural           Y  \n",
      "596             1.0         Rural           N  \n",
      "597             0.0     Semiurban           N  \n",
      "598             1.0         Rural           Y  \n",
      "599             1.0         Urban           Y  \n",
      "600             NaN         Urban           N  \n",
      "601             1.0         Rural           Y  \n",
      "602             1.0         Urban           Y  \n",
      "603             1.0         Rural           Y  \n",
      "604             1.0     Semiurban           Y  \n",
      "605             1.0         Urban           N  \n",
      "606             1.0     Semiurban           Y  \n",
      "607             1.0         Rural           Y  \n",
      "608             1.0         Rural           Y  \n",
      "609             1.0         Rural           Y  \n",
      "610             1.0         Rural           Y  \n",
      "611             1.0         Urban           Y  \n",
      "612             1.0         Urban           Y  \n",
      "613             0.0     Semiurban           N  \n",
      "\n",
      "[614 rows x 13 columns]\n"
     ]
    }
   ],
   "source": [
    "print(train)"
   ]
  },
  {
   "cell_type": "code",
   "execution_count": 4,
   "metadata": {},
   "outputs": [],
   "source": [
    "test = pd.read_csv(r\"C:\\Users\\thobekab\\Documents\\Analytics\\Learning\\Loan_Prediction\\test_Y3wMUE5_7gLdaTN.csv\")"
   ]
  },
  {
   "cell_type": "code",
   "execution_count": 5,
   "metadata": {},
   "outputs": [],
   "source": [
    "train_original=train.copy() \n",
    "test_original=test.copy()"
   ]
  },
  {
   "cell_type": "code",
   "execution_count": 6,
   "metadata": {
    "scrolled": false
   },
   "outputs": [
    {
     "name": "stdout",
     "output_type": "stream",
     "text": [
      "      Loan_ID  Gender Married Dependents     Education Self_Employed  \\\n",
      "0    LP001015    Male     Yes          0      Graduate            No   \n",
      "1    LP001022    Male     Yes          1      Graduate            No   \n",
      "2    LP001031    Male     Yes          2      Graduate            No   \n",
      "3    LP001035    Male     Yes          2      Graduate            No   \n",
      "4    LP001051    Male      No          0  Not Graduate            No   \n",
      "5    LP001054    Male     Yes          0  Not Graduate           Yes   \n",
      "6    LP001055  Female      No          1  Not Graduate            No   \n",
      "7    LP001056    Male     Yes          2  Not Graduate            No   \n",
      "8    LP001059    Male     Yes          2      Graduate           NaN   \n",
      "9    LP001067    Male      No          0  Not Graduate            No   \n",
      "10   LP001078    Male      No          0  Not Graduate            No   \n",
      "11   LP001082    Male     Yes          1      Graduate           NaN   \n",
      "12   LP001083    Male      No         3+      Graduate            No   \n",
      "13   LP001094    Male     Yes          2      Graduate           NaN   \n",
      "14   LP001096  Female      No          0      Graduate            No   \n",
      "15   LP001099    Male      No          1      Graduate            No   \n",
      "16   LP001105    Male     Yes          2      Graduate            No   \n",
      "17   LP001107    Male     Yes         3+      Graduate            No   \n",
      "18   LP001108    Male     Yes          0      Graduate            No   \n",
      "19   LP001115    Male      No          0      Graduate            No   \n",
      "20   LP001121    Male     Yes          1  Not Graduate            No   \n",
      "21   LP001124  Female      No         3+  Not Graduate            No   \n",
      "22   LP001128     NaN      No          0      Graduate            No   \n",
      "23   LP001135  Female      No          0  Not Graduate            No   \n",
      "24   LP001149    Male     Yes          0      Graduate            No   \n",
      "25   LP001153    Male      No          0      Graduate            No   \n",
      "26   LP001163    Male     Yes          2      Graduate            No   \n",
      "27   LP001169    Male     Yes          0      Graduate            No   \n",
      "28   LP001174    Male     Yes          0      Graduate            No   \n",
      "29   LP001176    Male      No          0      Graduate            No   \n",
      "..        ...     ...     ...        ...           ...           ...   \n",
      "337  LP002856    Male     Yes          0      Graduate            No   \n",
      "338  LP002857    Male     Yes          1      Graduate           Yes   \n",
      "339  LP002858  Female      No          0      Graduate            No   \n",
      "340  LP002860    Male     Yes          0      Graduate           Yes   \n",
      "341  LP002867    Male      No          0      Graduate           Yes   \n",
      "342  LP002869    Male     Yes         3+  Not Graduate            No   \n",
      "343  LP002870    Male     Yes          1      Graduate            No   \n",
      "344  LP002876    Male      No          0      Graduate            No   \n",
      "345  LP002878    Male     Yes         3+      Graduate            No   \n",
      "346  LP002879    Male     Yes          0      Graduate            No   \n",
      "347  LP002885    Male      No          0  Not Graduate            No   \n",
      "348  LP002890    Male     Yes          2  Not Graduate            No   \n",
      "349  LP002891    Male     Yes          0      Graduate           Yes   \n",
      "350  LP002899    Male     Yes          2      Graduate            No   \n",
      "351  LP002901    Male      No          0      Graduate            No   \n",
      "352  LP002907    Male     Yes          0      Graduate            No   \n",
      "353  LP002920    Male     Yes          0      Graduate            No   \n",
      "354  LP002921    Male     Yes         3+  Not Graduate            No   \n",
      "355  LP002932    Male     Yes         3+      Graduate            No   \n",
      "356  LP002935    Male     Yes          1      Graduate            No   \n",
      "357  LP002952    Male      No          0      Graduate            No   \n",
      "358  LP002954    Male     Yes          2  Not Graduate            No   \n",
      "359  LP002962    Male      No          0      Graduate            No   \n",
      "360  LP002965  Female     Yes          0      Graduate            No   \n",
      "361  LP002969    Male     Yes          1      Graduate            No   \n",
      "362  LP002971    Male     Yes         3+  Not Graduate           Yes   \n",
      "363  LP002975    Male     Yes          0      Graduate            No   \n",
      "364  LP002980    Male      No          0      Graduate            No   \n",
      "365  LP002986    Male     Yes          0      Graduate            No   \n",
      "366  LP002989    Male      No          0      Graduate           Yes   \n",
      "\n",
      "     ApplicantIncome  CoapplicantIncome  LoanAmount  Loan_Amount_Term  \\\n",
      "0               5720                  0       110.0             360.0   \n",
      "1               3076               1500       126.0             360.0   \n",
      "2               5000               1800       208.0             360.0   \n",
      "3               2340               2546       100.0             360.0   \n",
      "4               3276                  0        78.0             360.0   \n",
      "5               2165               3422       152.0             360.0   \n",
      "6               2226                  0        59.0             360.0   \n",
      "7               3881                  0       147.0             360.0   \n",
      "8              13633                  0       280.0             240.0   \n",
      "9               2400               2400       123.0             360.0   \n",
      "10              3091                  0        90.0             360.0   \n",
      "11              2185               1516       162.0             360.0   \n",
      "12              4166                  0        40.0             180.0   \n",
      "13             12173                  0       166.0             360.0   \n",
      "14              4666                  0       124.0             360.0   \n",
      "15              5667                  0       131.0             360.0   \n",
      "16              4583               2916       200.0             360.0   \n",
      "17              3786                333       126.0             360.0   \n",
      "18              9226               7916       300.0             360.0   \n",
      "19              1300               3470       100.0             180.0   \n",
      "20              1888               1620        48.0             360.0   \n",
      "21              2083                  0        28.0             180.0   \n",
      "22              3909                  0       101.0             360.0   \n",
      "23              3765                  0       125.0             360.0   \n",
      "24              5400               4380       290.0             360.0   \n",
      "25                 0              24000       148.0             360.0   \n",
      "26              4363               1250       140.0             360.0   \n",
      "27              7500               3750       275.0             360.0   \n",
      "28              3772                833        57.0             360.0   \n",
      "29              2942               2382       125.0             180.0   \n",
      "..               ...                ...         ...               ...   \n",
      "337             2292               1558       119.0             360.0   \n",
      "338             2360               3355        87.0             240.0   \n",
      "339             4333               2333       162.0             360.0   \n",
      "340             2623               4831       122.0             180.0   \n",
      "341             3972               4275       187.0             360.0   \n",
      "342             3522                  0        81.0             180.0   \n",
      "343             4700                  0        80.0             360.0   \n",
      "344             6858                  0       176.0             360.0   \n",
      "345             8334                  0       260.0             360.0   \n",
      "346             3391               1966       133.0             360.0   \n",
      "347             2868                  0        70.0             360.0   \n",
      "348             3418               1380       135.0             360.0   \n",
      "349             2500                296       137.0             300.0   \n",
      "350             8667                  0       254.0             360.0   \n",
      "351             2283              15000       106.0             360.0   \n",
      "352             5817                910       109.0             360.0   \n",
      "353             5119               3769       120.0             360.0   \n",
      "354             5316                187       158.0             180.0   \n",
      "355             7603               1213       197.0             360.0   \n",
      "356             3791               1936        85.0             360.0   \n",
      "357             2500                  0        60.0             360.0   \n",
      "358             3132                  0        76.0             360.0   \n",
      "359             4000               2667       152.0             360.0   \n",
      "360             8550               4255        96.0             360.0   \n",
      "361             2269               2167        99.0             360.0   \n",
      "362             4009               1777       113.0             360.0   \n",
      "363             4158                709       115.0             360.0   \n",
      "364             3250               1993       126.0             360.0   \n",
      "365             5000               2393       158.0             360.0   \n",
      "366             9200                  0        98.0             180.0   \n",
      "\n",
      "     Credit_History Property_Area  \n",
      "0               1.0         Urban  \n",
      "1               1.0         Urban  \n",
      "2               1.0         Urban  \n",
      "3               NaN         Urban  \n",
      "4               1.0         Urban  \n",
      "5               1.0         Urban  \n",
      "6               1.0     Semiurban  \n",
      "7               0.0         Rural  \n",
      "8               1.0         Urban  \n",
      "9               1.0     Semiurban  \n",
      "10              1.0         Urban  \n",
      "11              1.0     Semiurban  \n",
      "12              NaN         Urban  \n",
      "13              0.0     Semiurban  \n",
      "14              1.0     Semiurban  \n",
      "15              1.0         Urban  \n",
      "16              1.0         Urban  \n",
      "17              1.0     Semiurban  \n",
      "18              1.0         Urban  \n",
      "19              1.0     Semiurban  \n",
      "20              1.0         Urban  \n",
      "21              1.0         Urban  \n",
      "22              1.0         Urban  \n",
      "23              1.0         Urban  \n",
      "24              1.0         Urban  \n",
      "25              0.0         Rural  \n",
      "26              NaN         Urban  \n",
      "27              1.0         Urban  \n",
      "28              NaN     Semiurban  \n",
      "29              1.0         Urban  \n",
      "..              ...           ...  \n",
      "337             1.0         Urban  \n",
      "338             1.0         Rural  \n",
      "339             0.0         Rural  \n",
      "340             1.0     Semiurban  \n",
      "341             1.0         Rural  \n",
      "342             1.0         Rural  \n",
      "343             1.0         Urban  \n",
      "344             1.0         Rural  \n",
      "345             1.0         Urban  \n",
      "346             0.0         Rural  \n",
      "347             1.0         Urban  \n",
      "348             1.0         Urban  \n",
      "349             1.0         Rural  \n",
      "350             1.0         Rural  \n",
      "351             NaN         Rural  \n",
      "352             1.0         Urban  \n",
      "353             1.0         Rural  \n",
      "354             0.0     Semiurban  \n",
      "355             1.0         Urban  \n",
      "356             1.0         Urban  \n",
      "357             1.0         Urban  \n",
      "358             NaN         Rural  \n",
      "359             1.0     Semiurban  \n",
      "360             NaN         Urban  \n",
      "361             1.0     Semiurban  \n",
      "362             1.0         Urban  \n",
      "363             1.0         Urban  \n",
      "364             NaN     Semiurban  \n",
      "365             1.0         Rural  \n",
      "366             1.0         Rural  \n",
      "\n",
      "[367 rows x 12 columns]\n"
     ]
    }
   ],
   "source": [
    "print(test)"
   ]
  },
  {
   "cell_type": "code",
   "execution_count": 7,
   "metadata": {},
   "outputs": [
    {
     "data": {
      "text/plain": [
       "Index(['Loan_ID', 'Gender', 'Married', 'Dependents', 'Education',\n",
       "       'Self_Employed', 'ApplicantIncome', 'CoapplicantIncome', 'LoanAmount',\n",
       "       'Loan_Amount_Term', 'Credit_History', 'Property_Area'],\n",
       "      dtype='object')"
      ]
     },
     "execution_count": 7,
     "metadata": {},
     "output_type": "execute_result"
    }
   ],
   "source": [
    "train.columns\n",
    "test.columns"
   ]
  },
  {
   "cell_type": "code",
   "execution_count": 8,
   "metadata": {},
   "outputs": [
    {
     "data": {
      "text/plain": [
       "(614, 13)"
      ]
     },
     "execution_count": 8,
     "metadata": {},
     "output_type": "execute_result"
    }
   ],
   "source": [
    "train.shape"
   ]
  },
  {
   "cell_type": "code",
   "execution_count": 9,
   "metadata": {},
   "outputs": [
    {
     "data": {
      "text/plain": [
       "Y    422\n",
       "N    192\n",
       "Name: Loan_Status, dtype: int64"
      ]
     },
     "execution_count": 9,
     "metadata": {},
     "output_type": "execute_result"
    }
   ],
   "source": [
    "train['Loan_Status'].value_counts()"
   ]
  },
  {
   "cell_type": "code",
   "execution_count": 10,
   "metadata": {},
   "outputs": [
    {
     "data": {
      "text/plain": [
       "Y    0.687296\n",
       "N    0.312704\n",
       "Name: Loan_Status, dtype: float64"
      ]
     },
     "execution_count": 10,
     "metadata": {},
     "output_type": "execute_result"
    }
   ],
   "source": [
    "# Normalize can be set to True to print proportions instead of number \n",
    "train['Loan_Status'].value_counts(normalize=True)"
   ]
  },
  {
   "cell_type": "code",
   "execution_count": 11,
   "metadata": {},
   "outputs": [
    {
     "data": {
      "text/plain": [
       "<matplotlib.axes._subplots.AxesSubplot at 0x1f0cf5295c0>"
      ]
     },
     "execution_count": 11,
     "metadata": {},
     "output_type": "execute_result"
    },
    {
     "data": {
      "image/png": "[encoded data removed]",
      "text/plain": [
       "<Figure size 432x288 with 1 Axes>"
      ]
     },
     "metadata": {
      "needs_background": "light"
     },
     "output_type": "display_data"
    }
   ],
   "source": [
    "train['Loan_Status'].value_counts().plot.bar()"
   ]
  },
  {
   "cell_type": "code",
   "execution_count": 21,
   "metadata": {},
   "outputs": [
    {
     "data": {
      "image/png": "[encoded data removed]",
      "text/plain": [
       "<Figure size 1440x720 with 4 Axes>"
      ]
     },
     "metadata": {
      "needs_background": "light"
     },
     "output_type": "display_data"
    }
   ],
   "source": [
    "plt.figure(1) \n",
    "plt.subplot(221) \n",
    "train['Gender'].value_counts(normalize=True).plot.bar(figsize=(20,10), title= 'Gender') \n",
    "plt.subplot(222) \n",
    "train['Married'].value_counts(normalize=True).plot.bar(title= 'Married') \n",
    "plt.subplot(223) \n",
    "train['Self_Employed'].value_counts(normalize=True).plot.bar(title= 'Self_Employed') \n",
    "plt.subplot(224) \n",
    "train['Credit_History'].value_counts(normalize=True).plot.bar(title= 'Credit_History') \n",
    "plt.show()"
   ]
  },
  {
   "cell_type": "code",
   "execution_count": 22,
   "metadata": {},
   "outputs": [
    {
     "data": {
      "image/png": "[encoded data removed]",
      "text/plain": [
       "<Figure size 1728x432 with 3 Axes>"
      ]
     },
     "metadata": {
      "needs_background": "light"
     },
     "output_type": "display_data"
    }
   ],
   "source": [
    "plt.figure(1) \n",
    "plt.subplot(131) \n",
    "train['Dependents'].value_counts(normalize=True).plot.bar(figsize=(24,6), title= 'Dependents') \n",
    "plt.subplot(132) \n",
    "train['Education'].value_counts(normalize=True).plot.bar(title= 'Education') \n",
    "plt.subplot(133) \n",
    "train['Property_Area'].value_counts(normalize=True).plot.bar(title= 'Property_Area') \n",
    "plt.show()"
   ]
  },
  {
   "cell_type": "code",
   "execution_count": null,
   "metadata": {},
   "outputs": [],
   "source": []
  }
 ],
 "metadata": {
  "kernelspec": {
   "display_name": "Python 3",
   "language": "python",
   "name": "python3"
  },
  "language_info": {
   "codemirror_mode": {
    "name": "ipython",
    "version": 3
   },
   "file_extension": ".py",
   "mimetype": "text/x-python",
   "name": "python",
   "nbconvert_exporter": "python",
   "pygments_lexer": "ipython3",
   "version": "3.7.1"
  }
 },
 "nbformat": 4,
 "nbformat_minor": 2
}
